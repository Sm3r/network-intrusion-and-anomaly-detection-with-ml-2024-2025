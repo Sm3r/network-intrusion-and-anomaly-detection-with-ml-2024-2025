{
 "cells": [
  {
   "cell_type": "markdown",
   "id": "c2916704",
   "metadata": {},
   "source": [
    "# Hyperparameter tuning for a Random Forest classifier\n",
    "In this notebook, we will use grid-search and random-search to tune the hyperparameters of a Random Forest network traffic classifier.\n",
    "\n",
    "We will use a dataset of benign and various DDoS attacks from the CIC-DDoS2019 dataset (https://www.unb.ca/cic/datasets/ddos-2019.html).\n",
    "The network traffic has been previously pre-processed in a way that packets are grouped in bi-directional traffic flows using the 5-tuple (source IP, destination IP, source Port, destination Port, protocol). Each flow is represented with 21 packet-header features computed from max 10 packets:\n",
    "\n",
    "| Feature nr.         | Feature Name |\n",
    "|---------------------|---------------------|\n",
    "| 00 | timestamp (mean IAT) | \n",
    "| 01 | packet_length (mean)| \n",
    "| 02 | IP_flags_df (sum) |\n",
    "| 03 | IP_flags_mf (sum) |\n",
    "| 04 | IP_flags_rb (sum) | \n",
    "| 05 | IP_frag_off (sum) |\n",
    "| 06 | protocols (mean) |\n",
    "| 07 | TCP_length (mean) |\n",
    "| 08 | TCP_flags_ack (sum) |\n",
    "| 09 | TCP_flags_cwr (sum) |\n",
    "| 10 | TCP_flags_ece (sum) |\n",
    "| 11 | TCP_flags_fin (sum) |\n",
    "| 12 | TCP_flags_push (sum) |\n",
    "| 13 | TCP_flags_res (sum) |\n",
    "| 14 | TCP_flags_reset (sum) |\n",
    "| 15 | TCP_flags_syn (sum) |\n",
    "| 16 | TCP_flags_urg (sum) |\n",
    "| 17 | TCP_window_size (mean) |\n",
    "| 18 | UDP_length (mean) |\n",
    "| 19 | ICMP_type (mean) |\n",
    "| 20 | Packets (counter)|"
   ]
  },
  {
   "cell_type": "code",
   "execution_count": null,
   "id": "2a046372",
   "metadata": {},
   "outputs": [],
   "source": [
    "# Author: Roberto Doriguzzi-Corin\n",
    "# Project: Course on Network Intrusion and Anomaly Detection with Machine Learning\n",
    "#\n",
    "# Licensed under the Apache License, Version 2.0 (the \"License\");\n",
    "# you may not use this file except in compliance with the License.\n",
    "# You may obtain a copy of the License at\n",
    "#\n",
    "#   http://www.apache.org/licenses/LICENSE-2.0\n",
    "#\n",
    "# Unless required by applicable law or agreed to in writing, software\n",
    "# distributed under the License is distributed on an \"AS IS\" BASIS,\n",
    "# WITHOUT WARRANTIES OR CONDITIONS OF ANY KIND, either express or implied.\n",
    "# See the License for the specific language governing permissions and\n",
    "# limitations under the License.\n",
    "\n",
    "import os\n",
    "import numpy as np\n",
    "from sklearn.metrics import classification_report, f1_score, accuracy_score, get_scorer_names\n",
    "from util_functions import *\n",
    "from IPython.display import Image, display\n",
    "from sklearn.tree import export_graphviz\n",
    "from sklearn.ensemble import RandomForestClassifier\n",
    "from sklearn.model_selection import GridSearchCV, RandomizedSearchCV\n",
    "\n",
    "OUTPUT_FILE = \"./rf_tree\"\n",
    "DATASET_FOLDER = \"./DOS2019\"\n",
    "\n",
    "from matplotlib import pyplot as plt\n",
    "plt.rcParams.update({'figure.figsize': (12.0, 8.0)})\n",
    "plt.rcParams.update({'font.size': 14})\n",
    "\n",
    "SEED=1\n",
    "feature_names = get_feature_names()\n",
    "target_names = ['benign', 'dns',  'syn', 'udplag', 'webddos'] #IMPORTANT: when adding new classes, maintain the alphabetical order\n",
    "X_train, Y_train = load_dataset(DATASET_FOLDER + \"/*\" + '-train.hdf5')"
   ]
  },
  {
   "cell_type": "code",
   "execution_count": null,
   "id": "1cb98914",
   "metadata": {},
   "outputs": [],
   "source": [
    "def show_tree(tree_clf, feature_names):\n",
    "    export_graphviz(\n",
    "        tree_clf,\n",
    "        out_file=OUTPUT_FILE + \".dot\",\n",
    "        feature_names=feature_names,\n",
    "        class_names=target_names,\n",
    "        rounded=True,\n",
    "        filled=True\n",
    "    )\n",
    "\n",
    "    # comvert the \"dot\" file into a png image\n",
    "    os.system(\"dot -Tpng \" + OUTPUT_FILE + \".dot -o \" + OUTPUT_FILE + \".png\")\n",
    "    display(Image(filename=OUTPUT_FILE + \".png\"))"
   ]
  },
  {
   "cell_type": "markdown",
   "id": "57d7e4b0",
   "metadata": {},
   "source": [
    "# Grid search\n",
    "Train a Random Forest classifier across a grid of hyperparameters and ```k```-fold cross-validation. The RF is trained ```k``` times on each combination of hyperparameters, using each time a different fold for validation."
   ]
  },
  {
   "cell_type": "code",
   "execution_count": null,
   "id": "bfc50c63",
   "metadata": {},
   "outputs": [],
   "source": [
    "# Define the parameter distribution \n",
    "param_dist = {\n",
    "\"n_estimators\": [10,20,50],\n",
    "\"max_depth\": [2,5,10,20],\n",
    "\"min_samples_split\": [0.1,0.2,0.5],\n",
    "\"min_samples_leaf\": [0.1,0.2,0.5] \n",
    "}\n",
    "print (\"Total combinations: \", len(param_dist[\"n_estimators\"])*len(param_dist[\"max_depth\"])*len(param_dist[\"min_samples_split\"])*len(param_dist[\"min_samples_leaf\"]))\n",
    "\n",
    "# Create the random forest classifier\n",
    "rf = RandomForestClassifier()\n",
    "\n",
    "# Create the randomized search object \n",
    "gs = GridSearchCV(rf, param_grid=param_dist, cv=3, scoring='f1_weighted',verbose=2)\n",
    "\n",
    "# Fit the grid search object to the data\n",
    "gs.fit(X_train, Y_train)"
   ]
  },
  {
   "cell_type": "markdown",
   "id": "eb57f437",
   "metadata": {},
   "source": [
    "# Inference using the RF model\n",
    "Use the trained RF to make prediction on the test set. "
   ]
  },
  {
   "cell_type": "code",
   "execution_count": null,
   "id": "77493aa3",
   "metadata": {},
   "outputs": [],
   "source": [
    "X_test, y_test = load_dataset(DATASET_FOLDER + \"/*\" + '-test.hdf5')\n",
    "# Print the best hyperparameters \n",
    "best_model = gs.best_estimator_ \n",
    "y_pred = best_model.predict(X_test)\n",
    "print(classification_report(y_test, y_pred, target_names=target_names))\n",
    "\n",
    "print(\"\\nBest parameters: \", gs.best_params_) "
   ]
  },
  {
   "cell_type": "markdown",
   "id": "a351d116",
   "metadata": {},
   "source": [
    "# Random search\n",
    "Train a Random Forest classifier using random combinations of hyperparameters that are sampled from a specified distribution. With randomized search, one can set the maximum number of combinations to test, to control the total training time, and the number of ```k```-folds."
   ]
  },
  {
   "cell_type": "code",
   "execution_count": null,
   "id": "221c2d64",
   "metadata": {},
   "outputs": [],
   "source": [
    "# Define the parameter distribution \n",
    "from scipy.stats import uniform, randint\n",
    "\n",
    "param_dist = {\n",
    "\"n_estimators\": randint(10, 50),\n",
    "\"max_depth\": randint(2, 20),\n",
    "\"min_samples_split\": uniform(0.1, 0.5),\n",
    "\"min_samples_leaf\": uniform(0.1, 0.5)\n",
    "}\n",
    "\n",
    "# Create the random forest classifier\n",
    "rf = RandomForestClassifier()\n",
    "\n",
    "# Create the randomized search object \n",
    "gs = RandomizedSearchCV(rf,param_distributions=param_dist,n_iter=100,cv=3,verbose=2,random_state=SEED)\n",
    "\n",
    "# Fit the grid search object to the data\n",
    "gs.fit(X_train, Y_train)"
   ]
  },
  {
   "cell_type": "markdown",
   "id": "d82a77c3",
   "metadata": {},
   "source": [
    "# Inference using the RF model\n",
    "Use the trained RF to make prediction on the test set. "
   ]
  },
  {
   "cell_type": "code",
   "execution_count": null,
   "id": "7967fbb3",
   "metadata": {},
   "outputs": [],
   "source": [
    "X_test, y_test = load_dataset(DATASET_FOLDER + \"/*\" + '-test.hdf5')\n",
    "# Print the best hyperparameters \n",
    "best_model = gs.best_estimator_ \n",
    "y_pred = best_model.predict(X_test)\n",
    "print(classification_report(y_test, y_pred, target_names=target_names))\n",
    "\n",
    "print(\"\\nBest parameters: \", gs.best_params_) "
   ]
  }
 ],
 "metadata": {
  "kernelspec": {
   "display_name": "Python 3 (ipykernel)",
   "language": "python",
   "name": "python3"
  },
  "language_info": {
   "codemirror_mode": {
    "name": "ipython",
    "version": 3
   },
   "file_extension": ".py",
   "mimetype": "text/x-python",
   "name": "python",
   "nbconvert_exporter": "python",
   "pygments_lexer": "ipython3",
   "version": "3.9.13"
  }
 },
 "nbformat": 4,
 "nbformat_minor": 5
}
