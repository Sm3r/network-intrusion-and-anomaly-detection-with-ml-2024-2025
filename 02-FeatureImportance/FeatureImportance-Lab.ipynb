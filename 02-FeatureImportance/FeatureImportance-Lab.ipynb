{
 "cells": [
  {
   "cell_type": "markdown",
   "id": "c2916704",
   "metadata": {},
   "source": [
    "# Feature importance analysis\n",
    "In this laboratory, you will use a Random Forest to evaluate the relative importance of the features of the training set. This technique is often used to get rid of irrelevant features before training. \n",
    "\n",
    "You will use a dataset of benign and various DDoS attacks from the CIC-DDoS2019 dataset (https://www.unb.ca/cic/datasets/ddos-2019.html).\n",
    "The network traffic has been previously pre-processed in a way that packets are grouped in bi-directional traffic flows using the 5-tuple (source IP, destination IP, source Port, destination Port, protocol). Each flow is represented with 21 packet-header features computed from max 1000 packets:\n",
    "\n",
    "| Feature nr.         | Feature Name |\n",
    "|---------------------|---------------------|\n",
    "| 00 | timestamp (mean IAT) | \n",
    "| 01 | packet_length (mean)| \n",
    "| 02 | IP_flags_df (sum) |\n",
    "| 03 | IP_flags_mf (sum) |\n",
    "| 04 | IP_flags_rb (sum) | \n",
    "| 05 | IP_frag_off (sum) |\n",
    "| 06 | protocols (mean) |\n",
    "| 07 | TCP_length (mean) |\n",
    "| 08 | TCP_flags_ack (sum) |\n",
    "| 09 | TCP_flags_cwr (sum) |\n",
    "| 10 | TCP_flags_ece (sum) |\n",
    "| 11 | TCP_flags_fin (sum) |\n",
    "| 12 | TCP_flags_push (sum) |\n",
    "| 13 | TCP_flags_res (sum) |\n",
    "| 14 | TCP_flags_reset (sum) |\n",
    "| 15 | TCP_flags_syn (sum) |\n",
    "| 16 | TCP_flags_urg (sum) |\n",
    "| 17 | TCP_window_size (mean) |\n",
    "| 18 | UDP_length (mean) |\n",
    "| 19 | ICMP_type (mean) |\n",
    "| 20 | Packets (counter)|"
   ]
  },
  {
   "cell_type": "code",
   "execution_count": null,
   "id": "2a046372",
   "metadata": {},
   "outputs": [],
   "source": [
    "# Author: Roberto Doriguzzi-Corin\n",
    "# Project: Course on Network Intrusion and Anomaly Detection with Machine Learning\n",
    "#\n",
    "# Licensed under the Apache License, Version 2.0 (the \"License\");\n",
    "# you may not use this file except in compliance with the License.\n",
    "# You may obtain a copy of the License at\n",
    "#\n",
    "#   http://www.apache.org/licenses/LICENSE-2.0\n",
    "#\n",
    "# Unless required by applicable law or agreed to in writing, software\n",
    "# distributed under the License is distributed on an \"AS IS\" BASIS,\n",
    "# WITHOUT WARRANTIES OR CONDITIONS OF ANY KIND, either express or implied.\n",
    "# See the License for the specific language governing permissions and\n",
    "# limitations under the License.\n",
    "\n",
    "import os\n",
    "import numpy as np\n",
    "import glob\n",
    "import h5py\n",
    "import sys\n",
    "import copy\n",
    "import argparse\n",
    "from sklearn.metrics import classification_report, accuracy_score\n",
    "import logging\n",
    "from util_functions import *\n",
    "from IPython.display import Image, display\n",
    "from sklearn.tree import export_graphviz\n",
    "from sklearn.ensemble import RandomForestClassifier\n",
    "\n",
    "OUTPUT_FILE = \"./rf_tree\"\n",
    "DATASET_FOLDER = \"./DOS2019\"\n",
    "X_train, y_train = load_dataset(DATASET_FOLDER + \"/*\" + '-train.hdf5')\n",
    "\n",
    "from matplotlib import pyplot as plt\n",
    "plt.rcParams.update({'figure.figsize': (12.0, 8.0)})\n",
    "plt.rcParams.update({'font.size': 14})\n",
    "\n",
    "SEED=1\n",
    "feature_names = get_feature_names()\n",
    "target_names = ['benign', 'dns',  'syn', 'udplag', 'webddos'] #IMPORTANT: when adding new classes, maintain the alphabetical order\n",
    "target_names_full = ['benign', 'dns', 'ldap', 'mssql', 'netbios', 'ntp', 'portmap', 'snmp', 'ssdp', 'syn', 'tftp', 'udp', 'udplag', 'webddos'] # we use this to match class names with the class numbers returned by the RF\n",
    "X_train, y_train = load_dataset(DATASET_FOLDER + \"/*\" + '-train.hdf5')\n",
    "y_train = np.where(y_train==1)[1] "
   ]
  },
  {
   "cell_type": "code",
   "execution_count": null,
   "id": "1cb98914",
   "metadata": {},
   "outputs": [],
   "source": [
    "def show_tree(tree_clf, feature_names):\n",
    "    export_graphviz(\n",
    "        tree_clf,\n",
    "        out_file=OUTPUT_FILE + \".dot\",\n",
    "        feature_names=feature_names,\n",
    "        class_names=target_names,\n",
    "        rounded=True,\n",
    "        filled=True\n",
    "    )\n",
    "\n",
    "    # comvert the \"dot\" file into a png image\n",
    "    os.system(\"dot -Tpng \" + OUTPUT_FILE + \".dot -o \" + OUTPUT_FILE + \".png\")\n",
    "    display(Image(filename=OUTPUT_FILE + \".png\"))"
   ]
  },
  {
   "cell_type": "markdown",
   "id": "57d7e4b0",
   "metadata": {},
   "source": [
    "# Classification with Random Forests\n",
    "Implement a Random Forest classifier with 100 trees (estimators) and play with the regularisation hyper-parameters, such as max_depth, min_samples_split, min_samples_leaf.\n",
    "Replace the RF Classifier with an ExtraTreesClassifier and test the regularisation hyper-parameters"
   ]
  },
  {
   "cell_type": "code",
   "execution_count": null,
   "id": "bfc50c63",
   "metadata": {},
   "outputs": [],
   "source": [
    "### ADD YOUR CODE HERE ### \n",
    "### Define the RF model and train it using the dataset loaded above\n",
    "### Set the number of estimators (n_estimators), the stopping strategy (e.g., max_depth) and enable the oob_score=True\n",
    "rf = \n",
    "\n",
    "##########################"
   ]
  },
  {
   "cell_type": "markdown",
   "id": "c95f29c4",
   "metadata": {},
   "source": [
    "# Validation using the OOB score\n",
    "The \"OOB score\" stands for \"Out-of-Bag score,\" and it is a metric used in the context of random forests for estimating the model's performance on unseen data **without the need for a separate validation set**. It's a valuable tool for assessing the generalization capability of a random forest classifier or regressor."
   ]
  },
  {
   "cell_type": "code",
   "execution_count": null,
   "id": "786927b6",
   "metadata": {},
   "outputs": [],
   "source": [
    "### ADD YOUR CODE HERE ### \n",
    "### Play the RF hyperparameters of the RF model to see what configuration works best for this problem\n",
    "oob_score = \n",
    "##########################\n",
    "\n",
    "print(rf.get_params())\n",
    "print (\"Accuracy score: \", oob_score)"
   ]
  },
  {
   "cell_type": "code",
   "execution_count": null,
   "id": "edd30ec9",
   "metadata": {},
   "outputs": [],
   "source": [
    "# Let's visualise some decision tree of the Random Forest\n",
    "tree_clf = rf.estimators_[0]\n",
    "show_tree(tree_clf, feature_names)"
   ]
  },
  {
   "cell_type": "markdown",
   "id": "9cb08276",
   "metadata": {},
   "source": [
    "# Feature importance\n",
    "Let's now plot the most important features, as computed using the average decrease of the Gini impurity."
   ]
  },
  {
   "cell_type": "code",
   "execution_count": null,
   "id": "a06e44bc",
   "metadata": {},
   "outputs": [],
   "source": [
    "### ADD YOUR CODE HERE ### \n",
    "### Assign the feature importances to \"fi\"\n",
    "fi = \n",
    "##########################\n",
    "\n",
    "plt.barh(feature_names, fi)\n",
    "plt.show()"
   ]
  },
  {
   "cell_type": "markdown",
   "id": "eb57f437",
   "metadata": {},
   "source": [
    "# Inference using the RF model\n",
    "Use the trained RF to make prediction on the test set. "
   ]
  },
  {
   "cell_type": "code",
   "execution_count": null,
   "id": "77493aa3",
   "metadata": {},
   "outputs": [],
   "source": [
    "X_test, y_test = load_dataset(DATASET_FOLDER + \"/*\" + '-test.hdf5')\n",
    "y_test = np.where(y_test==1)[1] #from one-shot-encoding to numbers\n",
    "\n",
    "### ADD YOUR CODE HERE ### \n",
    "### Replace the three dots with your code\n",
    "y_pred = ...\n",
    "##########################\n",
    "\n",
    "print(classification_report(y_test, y_pred, target_names=target_names))"
   ]
  }
 ],
 "metadata": {
  "kernelspec": {
   "display_name": "Python 3 (ipykernel)",
   "language": "python",
   "name": "python3"
  },
  "language_info": {
   "codemirror_mode": {
    "name": "ipython",
    "version": 3
   },
   "file_extension": ".py",
   "mimetype": "text/x-python",
   "name": "python",
   "nbconvert_exporter": "python",
   "pygments_lexer": "ipython3",
   "version": "3.9.13"
  }
 },
 "nbformat": 4,
 "nbformat_minor": 5
}
