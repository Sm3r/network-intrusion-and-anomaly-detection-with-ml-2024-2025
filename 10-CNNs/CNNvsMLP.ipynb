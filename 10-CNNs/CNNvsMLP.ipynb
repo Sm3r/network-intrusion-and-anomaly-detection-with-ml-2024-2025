{
 "cells": [
  {
   "cell_type": "markdown",
   "metadata": {},
   "source": [
    "# Comparison between MLP and CNN\n",
    "In this experiment, our primary focus one understanding the main properties of Convolutional Neural Networks (CNNs). In this regard, we compare a CNN model against a traditional MLP model in terms of architectural components and performance.\n",
    "Both models are design for binary classification of the network traffic as benign or malicious. Therefore, they return a value between 0 and 1, which is the probability of the input flow of being malicious. \n",
    "\n",
    "\n",
    "| <img src=\"./mlp-cnn.png\" width=\"100%\">  |\n",
    "|--|\n",
    "| MLP and CNN architectures: n=100, f=20, m=100, k=100|\n",
    "\n",
    "We will use a dataset of benign and various DDoS attacks from the CIC-DDoS2019 dataset (https://www.unb.ca/cic/datasets/ddos-2019.html).\n",
    "The network traffic has been previously pre-processed in a way that packets are grouped in bi-directional traffic flows using the 5-tuple (source IP, destination IP, source Port, destination Port, protocol). Each flow is represented as a 100x20 array, where the rows are the packets of the flow in chronological order, while each column is a packet-level feature in the following order:\n",
    "\n",
    "| Feature nr.         | Feature Name |\n",
    "|---------------------|---------------------|\n",
    "| 00 | timestamp (IAT) | \n",
    "| 01 | packet_length (bytes)| \n",
    "| 02 | IP_flags_df (0/1) |\n",
    "| 03 | IP_flags_mf (0/1) |\n",
    "| 04 | IP_flags_rb (0/1) | \n",
    "| 05 | IP_frag_off (0/1) |\n",
    "| 06 | protocols (integer) |\n",
    "| 07 | TCP_length (bytes) |\n",
    "| 08 | TCP_flags_ack (0/1) |\n",
    "| 09 | TCP_flags_cwr (0/1) |\n",
    "| 10 | TCP_flags_ece (0/1) |\n",
    "| 11 | TCP_flags_fin (0/1) |\n",
    "| 12 | TCP_flags_push (0/1) |\n",
    "| 13 | TCP_flags_res (0/1) |\n",
    "| 14 | TCP_flags_reset (0/1) |\n",
    "| 15 | TCP_flags_syn (0/1) |\n",
    "| 16 | TCP_flags_urg (0/1) |\n",
    "| 17 | TCP_window_size (bytes) |\n",
    "| 18 | UDP_length (bytes) |\n",
    "| 19 | ICMP_type (code) |"
   ]
  },
  {
   "cell_type": "code",
   "execution_count": null,
   "metadata": {},
   "outputs": [],
   "source": [
    "# Author: Roberto Doriguzzi-Corin\n",
    "# Project: Course on Network Intrusion and Anomaly Detection with Machine Learning\n",
    "#\n",
    "# Licensed under the Apache License, Version 2.0 (the \"License\");\n",
    "# you may not use this file except in compliance with the License.\n",
    "# You may obtain a copy of the License at\n",
    "#\n",
    "#   http://www.apache.org/licenses/LICENSE-2.0\n",
    "#\n",
    "# Unless required by applicable law or agreed to in writing, software\n",
    "# distributed under the License is distributed on an \"AS IS\" BASIS,\n",
    "# WITHOUT WARRANTIES OR CONDITIONS OF ANY KIND, either express or implied.\n",
    "# See the License for the specific language governing permissions and\n",
    "# limitations under the License.\n",
    "\n",
    "import time\n",
    "import numpy as np\n",
    "import pprint\n",
    "import tensorflow as tf\n",
    "import matplotlib.pyplot as plt\n",
    "from tensorflow.keras.models import Sequential\n",
    "from tensorflow.keras.layers import Dense, Conv2D, GlobalMaxPooling2D, Flatten\n",
    "from sklearn.metrics import f1_score, accuracy_score, confusion_matrix\n",
    "from tensorflow.keras.optimizers import Adam, SGD\n",
    "from tensorflow.keras.utils import set_random_seed\n",
    "from util_functions import *\n",
    "\n",
    "EPOCHS = 100\n",
    "TEST_ITERATIONS=100\n",
    "\n",
    "# disable GPUs for test reproducibility\n",
    "tf.config.set_visible_devices([], 'GPU')\n",
    "\n",
    "SEED = 0\n",
    "np.random.seed(SEED)\n",
    "set_random_seed(SEED)\n",
    "\n",
    "DATASET_FOLDER = \"./DOS2019\""
   ]
  },
  {
   "cell_type": "code",
   "execution_count": null,
   "metadata": {},
   "outputs": [],
   "source": [
    "def report_results(Y_true, Y_pred, model_name, data_source, prediction_time):\n",
    "    ddos_rate = '{:04.3f}'.format(sum(Y_pred) / Y_pred.shape[0])\n",
    "\n",
    "    if Y_true is not None and len(Y_true.shape) > 0:  # if we have the labels, we can compute the classification accuracy\n",
    "        Y_true = Y_true.reshape((Y_true.shape[0], 1))\n",
    "        accuracy = accuracy_score(Y_true, Y_pred)\n",
    "\n",
    "        f1 = f1_score(Y_true, Y_pred)\n",
    "        tn, fp, fn, tp = confusion_matrix(Y_true, Y_pred, labels=[0, 1]).ravel()\n",
    "        tnr = tn / (tn + fp)\n",
    "        fpr = fp / (fp + tn)\n",
    "        fnr = fn / (fn + tp)\n",
    "        tpr = tp / (tp + fn)\n",
    "\n",
    "        row = {'Model': model_name, 'Time': '{:04.3f}'.format(prediction_time),\n",
    "               'Samples': Y_pred.shape[0], 'DDOS%': ddos_rate, 'Accuracy': '{:05.4f}'.format(accuracy), 'F1Score': '{:05.4f}'.format(f1),\n",
    "               'TPR': '{:05.4f}'.format(tpr), 'FPR': '{:05.4f}'.format(fpr), 'TNR': '{:05.4f}'.format(tnr), 'FNR': '{:05.4f}'.format(fnr), 'Source': data_source}\n",
    "\n",
    "    pprint.pprint(row, sort_dicts=False)"
   ]
  },
  {
   "cell_type": "code",
   "execution_count": null,
   "metadata": {},
   "outputs": [],
   "source": [
    "def plot_history(history):\n",
    "    # Plot training and validation accuracy over epochs\n",
    "    plt.plot(history.history['accuracy'], label='Training Accuracy')\n",
    "    plt.plot(history.history['val_accuracy'], label='Validation Accuracy')\n",
    "    plt.xlabel('Epochs')\n",
    "    plt.ylabel('Accuracy')\n",
    "    plt.legend()\n",
    "    plt.title('Training and Validation Accuracy')\n",
    "    plt.show()\n",
    "\n",
    "    # Plot training and validation loss over epochs\n",
    "    plt.plot(history.history['loss'], label='Training Loss')\n",
    "    plt.plot(history.history['val_loss'], label='Validation Loss')\n",
    "    plt.xlabel('Epochs')\n",
    "    plt.ylabel('Loss')\n",
    "    #plt.ylim([0, 2])\n",
    "    plt.legend()\n",
    "    plt.title('Training and Validation Loss')\n",
    "    plt.show()"
   ]
  },
  {
   "cell_type": "markdown",
   "metadata": {},
   "source": [
    "# MLP model definition and training\n",
    "In the following cell, we define and compile an MLP model. Then we train it for a certain number of epochs and we measure the training time."
   ]
  },
  {
   "cell_type": "code",
   "execution_count": null,
   "metadata": {},
   "outputs": [],
   "source": [
    "X_train, y_train = load_dataset(DATASET_FOLDER + \"/*\" + '-train.hdf5')\n",
    "X_val, y_val = load_dataset(DATASET_FOLDER + \"/*\" + '-val.hdf5')\n",
    "\n",
    "mlp_model = Sequential()\n",
    "mlp_model.add(Flatten(input_shape=X_train.shape[1:]))\n",
    "mlp_model.add(Dense(100, activation='relu'))\n",
    "mlp_model.add(Dense(1, activation='sigmoid'))\n",
    "\n",
    "# Compile the model\n",
    "mlp_model.compile(optimizer=Adam(lr=0.001), loss='binary_crossentropy', metrics=['accuracy'])\n",
    "\n",
    "# Print a summary of the model architecture\n",
    "mlp_model.summary()\n",
    "\n",
    "# Train the model\n",
    "start_time = time.time()\n",
    "history = mlp_model.fit(X_train, y_train, epochs=EPOCHS, validation_data=(X_val, y_val), batch_size=16, verbose=1)\n",
    "stop_time = time.time()\n",
    "\n",
    "print (\"Training time/epoch (sec): \", (stop_time-start_time)/EPOCHS)\n",
    "\n",
    "plot_history(history)"
   ]
  },
  {
   "cell_type": "markdown",
   "metadata": {},
   "source": [
    "# CNN model definition and training\n",
    "In the following cell, we define and compile an CNN model. Then we train it for a certain number of epochs and we measure the training time."
   ]
  },
  {
   "cell_type": "code",
   "execution_count": null,
   "metadata": {},
   "outputs": [],
   "source": [
    "X_train, y_train = load_dataset(DATASET_FOLDER + \"/*\" + '-train.hdf5',channels=True)\n",
    "X_val, y_val = load_dataset(DATASET_FOLDER + \"/*\" + '-val.hdf5',channels=True)\n",
    "\n",
    "cnn_model = Sequential()\n",
    "cnn_model.add(Conv2D(filters=100, kernel_size=(3, X_train.shape[2]), input_shape=X_train.shape[1:], data_format='channels_last', activation='relu', padding='same', strides=(1, 1)))\n",
    "cnn_model.add(GlobalMaxPooling2D())\n",
    "cnn_model.add(Flatten())\n",
    "cnn_model.add(Dense(1, activation='sigmoid'))\n",
    "\n",
    "# Compile the model\n",
    "cnn_model.compile(optimizer=Adam(lr=0.001), loss='binary_crossentropy', metrics=['accuracy'])\n",
    "\n",
    "# Print a summary of the model architecture\n",
    "cnn_model.summary()\n",
    "\n",
    "# Train the model\n",
    "start_time = time.time()\n",
    "history = cnn_model.fit(X_train, y_train, epochs=int(EPOCHS/5), validation_data=(X_val, y_val), batch_size=16, verbose=1)\n",
    "stop_time = time.time()\n",
    "\n",
    "print (\"Training time/epoch (sec): \", (stop_time-start_time)/(EPOCHS/5))\n",
    "\n",
    "plot_history(history)"
   ]
  },
  {
   "cell_type": "markdown",
   "metadata": {},
   "source": [
    "# Inference time comparison"
   ]
  },
  {
   "cell_type": "code",
   "execution_count": null,
   "metadata": {},
   "outputs": [],
   "source": [
    "# MLP model\n",
    "X_test, y_test = load_dataset(DATASET_FOLDER + \"/*\" + '-test.hdf5')\n",
    "\n",
    "pt0 = time.time()\n",
    "for i in range(TEST_ITERATIONS):\n",
    "    Y_pred = np.squeeze(mlp_model.predict(X_test, batch_size=16) > 0.5,axis=1)\n",
    "pt1 = time.time()\n",
    "prediction_time = pt1 - pt0\n",
    "\n",
    "report_results(np.squeeze(y_test), Y_pred,  'MLP', '', prediction_time/TEST_ITERATIONS)"
   ]
  },
  {
   "cell_type": "code",
   "execution_count": null,
   "metadata": {},
   "outputs": [],
   "source": [
    "# CNN model\n",
    "X_test, y_test = load_dataset(DATASET_FOLDER + \"/*\" + '-test.hdf5',channels=True)\n",
    "\n",
    "pt0 = time.time()\n",
    "for i in range(TEST_ITERATIONS):\n",
    "    Y_pred = np.squeeze(cnn_model.predict(X_test, batch_size=16) > 0.5,axis=1)\n",
    "pt1 = time.time()\n",
    "prediction_time = pt1 - pt0\n",
    "\n",
    "report_results(np.squeeze(y_test), Y_pred,  'CNN', '', prediction_time/TEST_ITERATIONS)"
   ]
  }
 ],
 "metadata": {
  "kernelspec": {
   "display_name": "python39",
   "language": "python",
   "name": "python3"
  },
  "language_info": {
   "codemirror_mode": {
    "name": "ipython",
    "version": 3
   },
   "file_extension": ".py",
   "mimetype": "text/x-python",
   "name": "python",
   "nbconvert_exporter": "python",
   "pygments_lexer": "ipython3",
   "version": "3.9.13"
  },
  "orig_nbformat": 4
 },
 "nbformat": 4,
 "nbformat_minor": 2
}
