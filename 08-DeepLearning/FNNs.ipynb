{
 "cells": [
  {
   "cell_type": "markdown",
   "metadata": {},
   "source": [
    "# Feedforward Neural Networks (FNNs)\n",
    "This notebook provides some examples of Feedforward Neural Networks (FNNs). "
   ]
  },
  {
   "cell_type": "code",
   "execution_count": null,
   "metadata": {},
   "outputs": [],
   "source": [
    "# Author: Roberto Doriguzzi-Corin\n",
    "# Project: Course on Network Intrusion and Anomaly Detection with Machine Learning\n",
    "#\n",
    "# Licensed under the Apache License, Version 2.0 (the \"License\");\n",
    "# you may not use this file except in compliance with the License.\n",
    "# You may obtain a copy of the License at\n",
    "#\n",
    "#   http://www.apache.org/licenses/LICENSE-2.0\n",
    "#\n",
    "# Unless required by applicable law or agreed to in writing, software\n",
    "# distributed under the License is distributed on an \"AS IS\" BASIS,\n",
    "# WITHOUT WARRANTIES OR CONDITIONS OF ANY KIND, either express or implied.\n",
    "# See the License for the specific language governing permissions and\n",
    "# limitations under the License.\n",
    "\n",
    "import tensorflow as tf\n",
    "from tensorflow.keras.models import Model, Sequential\n",
    "from tensorflow.keras.layers import Conv2D, GlobalMaxPool2D, Flatten, Dense, Input\n",
    "from tensorflow.keras.utils import plot_model"
   ]
  },
  {
   "cell_type": "markdown",
   "metadata": {},
   "source": [
    "# Logistic regression\n",
    "Logistic regression for binary classification."
   ]
  },
  {
   "cell_type": "code",
   "execution_count": null,
   "metadata": {},
   "outputs": [],
   "source": [
    "# Define a logistic regression model\n",
    "model = Sequential(name=\"log_reg\", layers=[\n",
    "    Dense(1, input_shape=(21,), activation='sigmoid'),\n",
    "])\n",
    "\n",
    "# Compile the model\n",
    "model.compile(optimizer='adam', loss='binary_crossentropy', metrics=['accuracy'])\n",
    "# Train the model and pass the TensorBoard callback\n",
    "print (model.summary())\n",
    "\n",
    "# Visualize the model architecture\n",
    "plot_model(model, to_file='log_reg_plot.png', show_shapes=True, show_layer_names=True)"
   ]
  },
  {
   "cell_type": "markdown",
   "metadata": {},
   "source": [
    "# Multi-Layer Perceptron (MLP)\n",
    "MLP for binary classification."
   ]
  },
  {
   "cell_type": "code",
   "execution_count": null,
   "metadata": {},
   "outputs": [],
   "source": [
    "# Define a simple neural network model\n",
    "model = Sequential(name=\"MLP\", layers=[\n",
    "    Dense(64, input_shape=(21,), activation='relu'),\n",
    "    Dense(32, activation='relu'),\n",
    "    Dense(1, activation='sigmoid')\n",
    "])\n",
    "\n",
    "# Compile the model\n",
    "model.compile(optimizer='adam', loss='binary_crossentropy', metrics=['accuracy'])\n",
    "# Train the model and pass the TensorBoard callback\n",
    "print (model.summary())\n",
    "\n",
    "# Visualize the model architecture\n",
    "plot_model(model, to_file='mlp_plot.png', show_shapes=True, show_layer_names=True)"
   ]
  },
  {
   "cell_type": "markdown",
   "metadata": {},
   "source": [
    "# Convolutional Neural Network (CNN)\n",
    "CNN fir binary classification"
   ]
  },
  {
   "cell_type": "code",
   "execution_count": null,
   "metadata": {},
   "outputs": [],
   "source": [
    "# Define the CNN model\n",
    "model = Sequential(name=\"CNN\", layers=[\n",
    "    Conv2D(64, (3, 3), activation='relu', input_shape=(10, 21, 1)),\n",
    "    GlobalMaxPool2D(),\n",
    "    Flatten(),\n",
    "    Dense(32, activation='relu'),\n",
    "    Dense(1, activation='sigmoid')  # Output layer with 10 classes (for Fashion MNIST)\n",
    "])\n",
    "\n",
    "# Compile the model\n",
    "model.compile(optimizer='adam',loss='binary_crossentropy',metrics=['accuracy'])\n",
    "print (model.summary())\n",
    "\n",
    "# Plot the model architecture and save it to a file\n",
    "plot_model(model, to_file='cnn_model.png', show_shapes=True, show_layer_names=True)\n"
   ]
  },
  {
   "cell_type": "markdown",
   "metadata": {},
   "source": [
    "# Autoencoder\n",
    "Autoencoder for anomaly detection."
   ]
  },
  {
   "cell_type": "code",
   "execution_count": null,
   "metadata": {},
   "outputs": [],
   "source": [
    "# Define the input shape\n",
    "input_shape = (21,)  # Assuming an input vector of 21 features\n",
    "\n",
    "# Define the encoder part\n",
    "encoder_input = Input(shape=input_shape,name='enc_input')\n",
    "encoded = Dense(20, activation='relu',name='enc_hidden')(encoder_input)  # Encoder with a single hidden layer\n",
    "encoder_output = Dense(10, activation='relu',name='enc_output')(encoded)  # Latent space representation\n",
    "\n",
    "# Define the decoder part\n",
    "decoder_input = Input(shape=(10,),name='dec_input')\n",
    "decoded = Dense(20, activation='relu',name='dec_hidden')(decoder_input)  # Decoder with a single hidden layer\n",
    "decoded_output = Dense(21, activation='linear',name='dec_output')(decoded)  # Output layer with sigmoid activation\n",
    "\n",
    "# Create the encoder and decoder models\n",
    "encoder = Model(encoder_input, encoder_output, name='encoder')\n",
    "decoder = Model(decoder_input, decoded_output, name='decoder')\n",
    "\n",
    "# Create the autoencoder model\n",
    "autoencoder = Model(encoder_input, decoder(encoder_output), name='autoencoder')\n",
    "\n",
    "# Compile the autoencoder\n",
    "autoencoder.compile(optimizer='adam', loss='MSE')\n",
    "print(autoencoder.summary())\n",
    "\n",
    "# Plot the architecture of the autoencoder and save it to a file\n",
    "plot_model(autoencoder, to_file='autoencoder_model.png', show_shapes=True, show_layer_names=True)"
   ]
  }
 ],
 "metadata": {
  "kernelspec": {
   "display_name": "python39",
   "language": "python",
   "name": "python3"
  },
  "language_info": {
   "codemirror_mode": {
    "name": "ipython",
    "version": 3
   },
   "file_extension": ".py",
   "mimetype": "text/x-python",
   "name": "python",
   "nbconvert_exporter": "python",
   "pygments_lexer": "ipython3",
   "version": "3.9.13"
  }
 },
 "nbformat": 4,
 "nbformat_minor": 2
}
