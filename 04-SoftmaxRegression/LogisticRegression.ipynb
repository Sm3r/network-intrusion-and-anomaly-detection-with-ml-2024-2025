{
 "cells": [
  {
   "cell_type": "markdown",
   "id": "c2916704",
   "metadata": {},
   "source": [
    "# Intrusion Detection with Logistic Regression\n",
    "In this laboratory, we will use a Logistic Regression to classy the network traffic flows as benign or malicious. The Logistic regression model returns a value between 0 and 1, which is the probability of the input flow of being malicious. We use a threshold set to 0.5 to decide whether the network flow is malicious or not.\n",
    "We will train a logistic regression model on a dataset of benign traffic and DDoS attack traffic.\n",
    "\n",
    "We will use a dataset of benign and various DDoS attacks from the CIC-DDoS2019 dataset (https://www.unb.ca/cic/datasets/ddos-2019.html).\n",
    "The network traffic has been previously pre-processed in a way that packets are grouped in bi-directional traffic flows using the 5-tuple (source IP, destination IP, source Port, destination Port, protocol). Each flow is represented with 21 packet-header features computed from max 10 packets:\n",
    "\n",
    "| Features           | Logistic Regression model           |\n",
    "|---------------------|--------------------|\n",
    "| timestamp (mean IAT)  <br> packet_length (mean) <br> IP_flags_df (sum) <br> IP_flags_mf (sum) <br> IP_flags_rb (sum) <br> IP_frag_off (sum) <br> protocols (mean) <br> TCP_length (mean) <br> TCP_flags_ack (sum) <br> TCP_flags_cwr (sum) <br> TCP_flags_ece (sum) <br> TCP_flags_fin (sum) <br> TCP_flags_push (sum) <br> TCP_flags_res (sum) <br> TCP_flags_reset (sum) <br> TCP_flags_syn (sum) <br> TCP_flags_urg (sum) <br> TCP_window_size (mean) <br> UDP_length (mean) <br> ICMP_type (mean) <br> Packets (counter) <br>| <img src=\"./logistic_regression_CIC2019.png\" width=\"100%\">  |"
   ]
  },
  {
   "cell_type": "code",
   "execution_count": 13,
   "id": "2a046372",
   "metadata": {},
   "outputs": [],
   "source": [
    "# Author: Roberto Doriguzzi-Corin\n",
    "# Project: Course on Network Intrusion and Anomaly Detection with Machine Learning\n",
    "#\n",
    "# Licensed under the Apache License, Version 2.0 (the \"License\");\n",
    "# you may not use this file except in compliance with the License.\n",
    "# You may obtain a copy of the License at\n",
    "#\n",
    "#   http://www.apache.org/licenses/LICENSE-2.0\n",
    "#\n",
    "# Unless required by applicable law or agreed to in writing, software\n",
    "# distributed under the License is distributed on an \"AS IS\" BASIS,\n",
    "# WITHOUT WARRANTIES OR CONDITIONS OF ANY KIND, either express or implied.\n",
    "# See the License for the specific language governing permissions and\n",
    "# limitations under the License.\n",
    "\n",
    "# Import necessary libraries\n",
    "\n",
    "import numpy as np\n",
    "import glob\n",
    "import h5py\n",
    "import matplotlib.pyplot as plt\n",
    "from sklearn.datasets import make_classification\n",
    "from sklearn.model_selection import train_test_split\n",
    "from sklearn.metrics import classification_report, f1_score\n",
    "from keras.models import Sequential\n",
    "from keras.layers import Dense\n",
    "from tensorflow.keras.optimizers import SGD,Adam\n",
    "from util_functions import *\n",
    "DATASET_FOLDER = \"./DOS2019\""
   ]
  },
  {
   "cell_type": "code",
   "execution_count": 14,
   "id": "2cc165dd",
   "metadata": {},
   "outputs": [],
   "source": [
    "# Load training, validation and test sets\n",
    "feature_names = get_feature_names()\n",
    "target_names = ['benign', 'dns',  'syn', 'udplag', 'webddos'] \n",
    "target_names_full = ['benign', 'dns', 'ldap', 'mssql', 'netbios', 'ntp', 'portmap', 'snmp', 'ssdp', 'syn', 'tftp', 'udp', 'udplag', 'webddos'] \n",
    "X_train, y_train = load_dataset(DATASET_FOLDER + \"/*\" + '-train.hdf5')\n",
    "y_train = np.array([1 if y[0] == 0 else 0 for y in y_train]) # from one-hot-encoding to binary\n",
    "\n",
    "X_val, y_val = load_dataset(DATASET_FOLDER + \"/*\" + '-val.hdf5')\n",
    "y_val = np.array([1 if y[0] == 0 else 0 for y in y_val]) # from one-hot-encoding to binary\n",
    "\n",
    "X_test, y_test = load_dataset(DATASET_FOLDER + \"/*\" + '-test.hdf5')\n",
    "y_test = np.array([1 if y[0] == 0 else 0 for y in y_test]) # from one-hot-encoding to binary"
   ]
  },
  {
   "cell_type": "code",
   "execution_count": 15,
   "id": "f44e3ebf",
   "metadata": {},
   "outputs": [],
   "source": [
    "# Logistic Regression model\n",
    "def LogRegression(model_name, input_shape):\n",
    "    activation_function = 'sigmoid'\n",
    "    model = Sequential(name=model_name)\n",
    "    model.add(Dense(1, input_shape=input_shape,activation=activation_function, name='fc1'))\n",
    "\n",
    "    print(model.summary())\n",
    "    return model"
   ]
  },
  {
   "cell_type": "markdown",
   "id": "e67d97e1",
   "metadata": {},
   "source": [
    "# Optimisation algorithm\n",
    "Here we can compare the performance of different optimizers "
   ]
  },
  {
   "cell_type": "code",
   "execution_count": 17,
   "id": "7fe1505d",
   "metadata": {},
   "outputs": [],
   "source": [
    "def compileModel(model,lr):\n",
    "    #optimizer = SGD(learning_rate=lr, momentum=0.0) # the optimisation algorithm\n",
    "    optimizer = Adam(learning_rate=lr)\n",
    "    model.compile(loss='binary_crossentropy', optimizer=optimizer,metrics=['accuracy'])  # here we specify the loss function"
   ]
  },
  {
   "cell_type": "markdown",
   "id": "7ff22587",
   "metadata": {},
   "source": [
    "# Model training"
   ]
  },
  {
   "cell_type": "code",
   "execution_count": null,
   "id": "f1b3a57c",
   "metadata": {},
   "outputs": [],
   "source": [
    "model = LogRegression('log_reg', X_train.shape[1:4])\n",
    "compileModel(model,0.001)\n",
    "\n",
    "# Train the model\n",
    "model.fit(X_train, y_train, epochs=200, batch_size=10, validation_data=(X_val, y_val))"
   ]
  },
  {
   "cell_type": "markdown",
   "id": "1b53ac0a",
   "metadata": {},
   "source": [
    "# Prediction on unseen data"
   ]
  },
  {
   "cell_type": "code",
   "execution_count": null,
   "id": "62517926",
   "metadata": {},
   "outputs": [],
   "source": [
    "y_pred = np.squeeze(model.predict(X_test, batch_size=32) > 0.5)\n",
    "\n",
    "print(\"F1 Score: \", f1_score(y_test,y_pred))"
   ]
  }
 ],
 "metadata": {
  "kernelspec": {
   "display_name": "python39",
   "language": "python",
   "name": "python3"
  },
  "language_info": {
   "codemirror_mode": {
    "name": "ipython",
    "version": 3
   },
   "file_extension": ".py",
   "mimetype": "text/x-python",
   "name": "python",
   "nbconvert_exporter": "python",
   "pygments_lexer": "ipython3",
   "version": "3.9.15"
  }
 },
 "nbformat": 4,
 "nbformat_minor": 5
}
