{
 "cells": [
  {
   "cell_type": "markdown",
   "id": "c2916704",
   "metadata": {},
   "source": [
    "# Network intrusion detection with Softmax Regression\n",
    "# Intrusion Detection with Softmax Regression\n",
    "In this laboratory, we will use Softmax Regression to classify the network traffic flows as benign or as one DDoS attack class. The Softmax regression model returns the probability of the input flow of belonging to one of the target classes. We use the argmax operator to decide to which class the flow belongs to (either benign or one DDoS attack classes).\n",
    "We will train a Softmax regression model on a dataset of benign traffic and DDoS attack traffic.\n",
    "\n",
    "We will use a dataset of benign and various DDoS attacks from the CIC-DDoS2019 dataset (https://www.unb.ca/cic/datasets/ddos-2019.html).\n",
    "The network traffic has been previously pre-processed in a way that packets are grouped in bi-directional traffic flows using the 5-tuple (source IP, destination IP, source Port, destination Port, protocol). Each flow is represented with 21 packet-header features computed from max 10 packets:\n",
    "\n",
    "| Features           | Softmax Regression model           |\n",
    "|---------------------|--------------------|\n",
    "| timestamp (mean IAT)  <br> packet_length (mean) <br> IP_flags_df (sum) <br> IP_flags_mf (sum) <br> IP_flags_rb (sum) <br> IP_frag_off (sum) <br> protocols (mean) <br> TCP_length (mean) <br> TCP_flags_ack (sum) <br> TCP_flags_cwr (sum) <br> TCP_flags_ece (sum) <br> TCP_flags_fin (sum) <br> TCP_flags_push (sum) <br> TCP_flags_res (sum) <br> TCP_flags_reset (sum) <br> TCP_flags_syn (sum) <br> TCP_flags_urg (sum) <br> TCP_window_size (mean) <br> UDP_length (mean) <br> ICMP_type (mean) <br> Packets (counter) <br>| <img src=\"./softmax_regression_CIC2019.png\" width=\"100%\">  |"
   ]
  },
  {
   "cell_type": "code",
   "execution_count": 20,
   "id": "2a046372",
   "metadata": {},
   "outputs": [],
   "source": [
    "# Author: Roberto Doriguzzi-Corin\n",
    "# Project: Course on Network Intrusion and Anomaly Detection with Machine Learning\n",
    "#\n",
    "# Licensed under the Apache License, Version 2.0 (the \"License\");\n",
    "# you may not use this file except in compliance with the License.\n",
    "# You may obtain a copy of the License at\n",
    "#\n",
    "#   http://www.apache.org/licenses/LICENSE-2.0\n",
    "#\n",
    "# Unless required by applicable law or agreed to in writing, software\n",
    "# distributed under the License is distributed on an \"AS IS\" BASIS,\n",
    "# WITHOUT WARRANTIES OR CONDITIONS OF ANY KIND, either express or implied.\n",
    "# See the License for the specific language governing permissions and\n",
    "# limitations under the License.\n",
    "\n",
    "# Import necessary libraries\n",
    "\n",
    "import numpy as np\n",
    "import glob\n",
    "import h5py\n",
    "import matplotlib.pyplot as plt\n",
    "from sklearn.datasets import make_classification\n",
    "from sklearn.model_selection import train_test_split\n",
    "from sklearn.metrics import classification_report, f1_score\n",
    "from keras.models import Sequential\n",
    "from keras.layers import Dense\n",
    "from tensorflow.keras.optimizers import Adam,SGD, RMSprop\n",
    "from util_functions import *\n",
    "DATASET_FOLDER = \"./DOS2019\""
   ]
  },
  {
   "cell_type": "code",
   "execution_count": 27,
   "id": "2cc165dd",
   "metadata": {},
   "outputs": [],
   "source": [
    "# Load training, validation and test sets\n",
    "feature_names = get_feature_names()\n",
    "target_names = ['benign', 'dns',  'syn', 'udplag', 'webddos'] \n",
    "target_names_full = ['benign', 'dns', 'ldap', 'mssql', 'netbios', 'ntp', 'portmap', 'snmp', 'ssdp', 'syn', 'tftp', 'udp', 'udplag', 'webddos']\n",
    "X_train, y_train = load_dataset(DATASET_FOLDER + \"/*\" + '-train.hdf5')\n",
    "X_val, y_val = load_dataset(DATASET_FOLDER + \"/*\" + '-val.hdf5')\n",
    "X_test, y_test = load_dataset(DATASET_FOLDER + \"/*\" + '-test.hdf5')"
   ]
  },
  {
   "cell_type": "markdown",
   "id": "c702dd8a",
   "metadata": {},
   "source": [
    "## Model definition\n",
    "In the next cell, set the right activation function and the number of output classes"
   ]
  },
  {
   "cell_type": "code",
   "execution_count": 28,
   "id": "f44e3ebf",
   "metadata": {},
   "outputs": [],
   "source": [
    "# Softmax Regression model\n",
    "def SoftmaxRegression(model_name, input_shape,classes):\n",
    "    ### ADD YOUR CODE HERE ### \n",
    "    activation_function = \n",
    "    \n",
    "    model = Sequential(name=model_name)\n",
    "    model.add(Dense( , input_shape=input_shape,activation=activation_function, name='fc1'))\n",
    "    ##########################\n",
    "\n",
    "    print(model.summary())\n",
    "    return model"
   ]
  },
  {
   "cell_type": "markdown",
   "id": "4fff1932",
   "metadata": {},
   "source": [
    "## Cost function and optimisation algorithm\n",
    "Use the correct loss function and try different optimizers (SGD, SGD with momentum, NAG, RMSprop or Adam). "
   ]
  },
  {
   "cell_type": "code",
   "execution_count": 29,
   "id": "7fe1505d",
   "metadata": {},
   "outputs": [],
   "source": [
    "def compileModel(model,lr):\n",
    "    ### ADD YOUR CODE HERE ###\n",
    "    loss_function = 'categorical_crossentropy'\n",
    "    optimizer = \n",
    "    ##########################\n",
    "    model.compile(loss=loss_function, optimizer=optimizer,metrics=['accuracy'])  # here we specify the loss function"
   ]
  },
  {
   "cell_type": "markdown",
   "id": "13ee0b6f",
   "metadata": {},
   "source": [
    "## Train the model"
   ]
  },
  {
   "cell_type": "code",
   "execution_count": null,
   "id": "f1b3a57c",
   "metadata": {},
   "outputs": [],
   "source": [
    "model = SoftmaxRegression('log_reg', X_train.shape[1:4],len(target_names_full))\n",
    "compileModel(model,0.001)\n",
    "\n",
    "### ADD YOUR CODE HERE ###\n",
    "EPOCHS = \n",
    "BATCH_SIZE = \n",
    "##########################\n",
    "\n",
    "# Train the model\n",
    "model.fit(X_train, y_train, epochs=EPOCHS, batch_size=BATCH_SIZE, validation_data=(X_val, y_val))"
   ]
  },
  {
   "cell_type": "markdown",
   "id": "8cd59f48",
   "metadata": {},
   "source": [
    "## Make prediction on unseen data"
   ]
  },
  {
   "cell_type": "code",
   "execution_count": null,
   "id": "62517926",
   "metadata": {},
   "outputs": [],
   "source": [
    "### make the prediction on the test set\n",
    "y_pred = model.predict(X_test) \n",
    "# Convert one-hot encoded predictions back to categorical values\n",
    "y_pred_labels = np.argmax(y_pred, axis=1)\n",
    "y_test_labels = np.argmax(y_test, axis=1)\n",
    "\n",
    "### print the classification report\n",
    "print(classification_report(y_test_labels, y_pred_labels, target_names=target_names))"
   ]
  }
 ],
 "metadata": {
  "kernelspec": {
   "display_name": "python39",
   "language": "python",
   "name": "python3"
  },
  "language_info": {
   "codemirror_mode": {
    "name": "ipython",
    "version": 3
   },
   "file_extension": ".py",
   "mimetype": "text/x-python",
   "name": "python",
   "nbconvert_exporter": "python",
   "pygments_lexer": "ipython3",
   "version": "3.9.15"
  }
 },
 "nbformat": 4,
 "nbformat_minor": 5
}
