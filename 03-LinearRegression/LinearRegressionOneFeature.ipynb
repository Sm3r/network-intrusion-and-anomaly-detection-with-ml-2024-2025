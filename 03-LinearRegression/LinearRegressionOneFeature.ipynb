{
 "cells": [
  {
   "cell_type": "markdown",
   "metadata": {},
   "source": [
    "# Linear regression \n",
    "In this lab we train a Linear regressor with synthetic data for a regression problem (prediction of a real number). Given the \"Time\" feature, and a training set where the independent variable is the time, and the dependent variable is the average packet size. We want to predict the packet size to spot anomalies in the network traffic."
   ]
  },
  {
   "cell_type": "code",
   "execution_count": null,
   "metadata": {},
   "outputs": [],
   "source": [
    "# Author: Roberto Doriguzzi-Corin\n",
    "# Project: Course on Network Intrusion and Anomaly Detection with Machine Learning\n",
    "#\n",
    "# Licensed under the Apache License, Version 2.0 (the \"License\");\n",
    "# you may not use this file except in compliance with the License.\n",
    "# You may obtain a copy of the License at\n",
    "#\n",
    "#   http://www.apache.org/licenses/LICENSE-2.0\n",
    "#\n",
    "# Unless required by applicable law or agreed to in writing, software\n",
    "# distributed under the License is distributed on an \"AS IS\" BASIS,\n",
    "# WITHOUT WARRANTIES OR CONDITIONS OF ANY KIND, either express or implied.\n",
    "# See the License for the specific language governing permissions and\n",
    "# limitations under the License.\n",
    "\n",
    "# Import necessary libraries\n",
    "import numpy as np\n",
    "from sklearn.linear_model import LinearRegression\n",
    "from sklearn.preprocessing import PolynomialFeatures\n",
    "from sklearn.metrics import mean_squared_error\n",
    "import matplotlib.pyplot as plt\n",
    "\n",
    "OUTPUT_FILE = \"./reg_tree\"\n",
    "\n",
    "# Generate some sample data (a sin function with some random noise)\n",
    "np.random.seed(0)\n",
    "m = 100 \n",
    "X_train = 6 * np.random.rand(m, 1) - 3 \n",
    "y_train = 0.5 * X_train**2 + X_train + 80 + 0.5*np.random.randn(m, 1)\n",
    "\n",
    "# Fit a linear regressor\n",
    "lr = LinearRegression()\n",
    "lr.fit(X_train, y_train)\n",
    "print(\"Resulting curve: \" + str(lr.intercept_[0]) + \" + \" + str(lr.coef_[0][0]) + \"*Time\") "
   ]
  },
  {
   "cell_type": "code",
   "execution_count": null,
   "metadata": {},
   "outputs": [],
   "source": [
    "# Predictions (numbers from 0 to 5 with increment 0.01)\n",
    "X_plot = np.arange(-3, 3, 0.01)[:, np.newaxis]\n",
    "y_pred = lr.predict(X_plot)\n",
    "\n",
    "# Plot the results\n",
    "plt.figure()\n",
    "plt.scatter(X_train, y_train, s=20, edgecolor=\"black\", c=\"yellow\", label=\"data\")\n",
    "plt.plot(X_plot, y_pred, color=\"cornflowerblue\", label=\"prediction\")\n",
    "plt.xlabel(\"Time\")\n",
    "plt.ylabel(\"Average Packet size\")\n",
    "plt.title(\"Linear Regression\")\n",
    "plt.legend()\n",
    "plt.show()\n",
    "\n",
    "# Error on the training set\n",
    "y_pred = lr.predict(X_train)\n",
    "mse = mean_squared_error(y_train,y_pred)\n",
    "print(\"MSE measured on the benign training set: \", mse)"
   ]
  },
  {
   "cell_type": "markdown",
   "metadata": {},
   "source": [
    "# Linear regression with polynomial features\n",
    "You can use a linear model to fit nonlinear data. A simple way to do this is to add powers of each feature as new features, then train a linear model on this extended set of features. This technique is called Polynomial Regression. "
   ]
  },
  {
   "cell_type": "code",
   "execution_count": null,
   "metadata": {},
   "outputs": [],
   "source": [
    "# X_poly now contains the original feature of X plus the square of this feature\n",
    "poly_features = PolynomialFeatures(degree=2, include_bias=False)\n",
    "X_poly = poly_features.fit_transform(X_train)\n",
    "\n",
    "lr = LinearRegression() \n",
    "lr.fit(X_poly, y_train)\n",
    "print(\"Resulting curve: \" + str(lr.intercept_[0]) + \" + \" + str(lr.coef_[0][0]) + \"*Time\" + \" + \" + str(lr.coef_[0][1]) + \"*Time^2\") "
   ]
  },
  {
   "cell_type": "code",
   "execution_count": null,
   "metadata": {},
   "outputs": [],
   "source": [
    "# Predictions (numbers from 0 to 5 with increment 0.01)\n",
    "X_plot = np.arange(-3, 3, 0.01)[:, np.newaxis]\n",
    "X_plot_poly = poly_features.fit_transform(X_plot)\n",
    "y_pred = lr.predict(X_plot_poly)\n",
    "\n",
    "# Plot the results\n",
    "plt.figure()\n",
    "plt.scatter(X_train, y_train, s=20, edgecolor=\"black\", c=\"yellow\", label=\"data\")\n",
    "plt.plot(X_plot, y_pred, color=\"cornflowerblue\", label=\"prediction\")\n",
    "plt.xlabel(\"Time\")\n",
    "plt.ylabel(\"Average Packet size\")\n",
    "plt.ylim([78, 90])\n",
    "plt.title(\"Linear Regression\")\n",
    "plt.legend()\n",
    "plt.show()\n",
    "\n",
    "# Error on the training set\n",
    "y_pred = lr.predict(X_poly)\n",
    "mse = mean_squared_error(y_train,y_pred)\n",
    "print(\"MSE measured on the benign training set: \", mse)"
   ]
  },
  {
   "cell_type": "code",
   "execution_count": null,
   "metadata": {},
   "outputs": [],
   "source": []
  }
 ],
 "metadata": {
  "kernelspec": {
   "display_name": "Python 3 (ipykernel)",
   "language": "python",
   "name": "python3"
  },
  "language_info": {
   "codemirror_mode": {
    "name": "ipython",
    "version": 3
   },
   "file_extension": ".py",
   "mimetype": "text/x-python",
   "name": "python",
   "nbconvert_exporter": "python",
   "pygments_lexer": "ipython3",
   "version": "3.9.15"
  }
 },
 "nbformat": 4,
 "nbformat_minor": 4
}
