{
 "cells": [
  {
   "cell_type": "markdown",
   "metadata": {},
   "source": [
    "# Feature extraction and preprocessing \n",
    "\n",
    "In this laboratory, you are asked to use Pyshark to extract a set of header field from network packets and convert them into a suitable format using one of the techniques discussed during the class (representations of traffic flows). \n",
    "You will also assign a label to each packet. In this case, the task is to use the one-hot-encoding technique to convert the text labels pre-assigned to the various categories of traffic into a one-hot encoding representation."
   ]
  },
  {
   "cell_type": "code",
   "execution_count": 1,
   "metadata": {},
   "outputs": [],
   "source": [
    "# Author: Roberto Doriguzzi-Corin\n",
    "# Project: Course on Network Intrusion and Anomaly Detection with Machine Learning\n",
    "#\n",
    "# Licensed under the Apache License, Version 2.0 (the \"License\");\n",
    "# you may not use this file except in compliance with the License.\n",
    "# You may obtain a copy of the License at\n",
    "#\n",
    "#   http://www.apache.org/licenses/LICENSE-2.0\n",
    "#\n",
    "# Unless required by applicable law or agreed to in writing, software\n",
    "# distributed under the License is distributed on an \"AS IS\" BASIS,\n",
    "# WITHOUT WARRANTIES OR CONDITIONS OF ANY KIND, either express or implied.\n",
    "# See the License for the specific language governing permissions and\n",
    "# limitations under the License.\n",
    "\n",
    "import pyshark\n",
    "import numpy as np\n",
    "from sklearn.feature_extraction.text import CountVectorizer\n",
    "from sklearn.preprocessing import OneHotEncoder\n",
    "\n",
    "# We need the following to get around “RuntimeError: This event loop is already running” when using Pyshark within Jupyter notebooks.\n",
    "# Not needed in stand-alone Python projects\n",
    "import nest_asyncio\n",
    "nest_asyncio.apply()  \n",
    "\n",
    "LABELS = ['BENIGN','SYN']\n",
    "# Definition of malicious flows \n",
    "DOS2019_SYN_FLOWS = [('172.16.0.5','192.168.50.1'), ('172.16.0.5','192.168.50.4')]\n",
    "\n",
    "# Bag of words\n",
    "bow = ['arp','data','dhcp','dns','eth','ftp','http','icmp','ip','ssdp','ssl','tcp','telnet','tls','udp']\n",
    "# Create a CountVectorizer instance\n",
    "vectorizer = CountVectorizer()\n",
    "# Fit the vectorizer on the corpus and transform the documents into BoW vectors \n",
    "vectorizer.fit_transform(bow).todense()\n",
    "\n",
    "# One-hot encoder\n",
    "# Create an instance of OneHotEncoder\n",
    "encoder = OneHotEncoder(sparse_output=False)\n",
    "labels_reshaped = np.array(LABELS).reshape(-1, 1)\n",
    "one_hot_encoded = encoder.fit_transform(labels_reshaped)\n",
    "\n",
    "\n",
    "# Path to the capture file\n",
    "capture_file = './PCAPs/benign-syn.pcap'\n",
    "cap = pyshark.FileCapture(capture_file)"
   ]
  },
  {
   "cell_type": "markdown",
   "metadata": {},
   "source": [
    "# Packet feature extraction and labelling\n",
    "In this step, complete the code in the following cell as follows:\n",
    "- make sure to keep only TCP packets\n",
    "- extract the 5-tuple packet identifier composed by source and destination IP addresses, source and destination transport ports and transport protocol\n",
    "- extract the list of protocols (string), IP flags (integer), the TCP length (integer) and TCP flags (integer)\n",
    "- assign the label to the packet"
   ]
  },
  {
   "cell_type": "code",
   "execution_count": null,
   "metadata": {},
   "outputs": [],
   "source": [
    "packet_list = []\n",
    "for packet in cap:\n",
    "    packet_features = {}\n",
    "    ### ADD YOUR CODE HERE ###\n",
    "    if '' in packet and '' in packet:  # Check if the packet has IP and TCP layers\n",
    "\n",
    "        \n",
    "        src_ip =   # Source IP address\n",
    "        dst_ip =   # Destination IP address\n",
    "        src_port =   # Source port\n",
    "        dst_port =   # Destination port\n",
    "        protocol =   # Transport layer protocol (TCP or UDP)\n",
    "\n",
    "        # Fill the packet features dictionary\n",
    "        packet_features['ID'] = # the 5-tuple, a \"set\" with the 5 features extracted above\n",
    "        packet_features['Protocols'] = str(packet.frame_info.protocols)\n",
    "        packet_features['IP_FLAGS'] = int( , 16) # IP FLAGS need to be traslated from exadecimal value to decimal format\n",
    "        packet_features['TCP_LENGTH'] = int()\n",
    "        packet_features['TCP_FLAGS'] = int( , 16) # TCP FLAGS need to be traslated from exadecimal value to decimal format\n",
    "    ##########################\n",
    "\n",
    "        ### ADD YOUR CODE HERE ###\n",
    "        if (src_ip,dst_ip) in DOS2019_SYN_FLOWS or  in DOS2019_SYN_FLOWS: # check whether the packet belongs to a malicious communication (bi-directional)\n",
    "        ##########################\n",
    "            packet_features['LABEL'] = 'SYN'\n",
    "        else:\n",
    "            packet_features['LABEL'] = 'BENIGN'\n",
    "\n",
    "        packet_list.append(packet_features)\n",
    "        print(packet_features)"
   ]
  },
  {
   "cell_type": "markdown",
   "metadata": {},
   "source": [
    "# Feature preprocessing and label encoding\n",
    "The next step consists in converting the string features and labels into numerical vector that can be used with ML algorithm. More precisely:\n",
    "- convert the ```protocols``` string into a numerical vector using the bag-of-words technique\n",
    "- convert the text labels into numerical vectors usign the one-hot-encoding technique"
   ]
  },
  {
   "cell_type": "code",
   "execution_count": null,
   "metadata": {},
   "outputs": [],
   "source": [
    "# Iterate through the list of packets\n",
    "for packet in packet_list:\n",
    "    ### Processing the list of protocols with the BoW technique\n",
    "\n",
    "    ### ADD YOUR CODE HERE ###\n",
    "    protocols_string =  # take the \"protocols\" feature from the packet's dictionary\n",
    "    ##########################\n",
    "\n",
    "    protocols_vector = vectorizer.transform([protocols_string])\n",
    "    packet['Protocols'] = protocols_vector.toarray()[0]\n",
    "\n",
    "    ### One-hot-encoded labels a text label into a one-hot encoded label\n",
    "\n",
    "    ### ADD YOUR CODE HERE ###\n",
    "    label = # take the label from the packet's dictionary\n",
    "    ##########################\n",
    "    \n",
    "    label_reshaped = np.array(label).reshape(-1, 1)\n",
    "    one_hot_encoded_new_label = encoder.transform(label_reshaped)\n",
    "    packet['LABEL'] = one_hot_encoded_new_label\n",
    "\n",
    "    print(packet)\n",
    "    "
   ]
  },
  {
   "cell_type": "markdown",
   "metadata": {},
   "source": [
    "# Build the network traffic flows\n",
    "Finally, we use the 5-tuple (and its transpose) to group the packets into flows."
   ]
  },
  {
   "cell_type": "code",
   "execution_count": null,
   "metadata": {},
   "outputs": [],
   "source": [
    "# Iterate through the list of packets\n",
    "flows = {}\n",
    "for packet in packet_list:\n",
    "\n",
    "    ### ADD YOUR CODE HERE ###\n",
    "    packet_id = # take the 5-tuple\n",
    "    packet_id_tr = () # fill this Python tuple with the transposed 5-tuple\n",
    "    ##########################\n",
    "\n",
    "    if flows.get(packet_id) == None and flows.get(packet_id_tr) == None:\n",
    "        flows[packet_id] = [packet]\n",
    "    elif flows.get(packet_id) != None:\n",
    "        flows[packet_id].append(packet)\n",
    "    else:\n",
    "        flows[packet_id_tr].append(packet)\n",
    "\n",
    "for id, packets in flows.items():\n",
    "    print (\"Flow ID:\",id)\n",
    "    for packet in packets[:10]:\n",
    "        print (packet)"
   ]
  }
 ],
 "metadata": {
  "kernelspec": {
   "display_name": "python39",
   "language": "python",
   "name": "python3"
  },
  "language_info": {
   "codemirror_mode": {
    "name": "ipython",
    "version": 3
   },
   "file_extension": ".py",
   "mimetype": "text/x-python",
   "name": "python",
   "nbconvert_exporter": "python",
   "pygments_lexer": "ipython3",
   "version": "3.9.13"
  }
 },
 "nbformat": 4,
 "nbformat_minor": 2
}
