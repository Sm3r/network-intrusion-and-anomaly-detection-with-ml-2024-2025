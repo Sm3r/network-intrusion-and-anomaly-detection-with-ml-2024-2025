{
 "cells": [
  {
   "cell_type": "markdown",
   "metadata": {},
   "source": [
    "# Feature extraction with Pyshark \n",
    "\n",
    "In this demonstration, we will analyse how to extract packet header's features with Pyshark, a Python wrapper for Tshark."
   ]
  },
  {
   "cell_type": "code",
   "execution_count": null,
   "metadata": {},
   "outputs": [],
   "source": [
    "# Author: Roberto Doriguzzi-Corin\n",
    "# Project: Course on Network Intrusion and Anomaly Detection with Machine Learning\n",
    "#\n",
    "# Licensed under the Apache License, Version 2.0 (the \"License\");\n",
    "# you may not use this file except in compliance with the License.\n",
    "# You may obtain a copy of the License at\n",
    "#\n",
    "#   http://www.apache.org/licenses/LICENSE-2.0\n",
    "#\n",
    "# Unless required by applicable law or agreed to in writing, software\n",
    "# distributed under the License is distributed on an \"AS IS\" BASIS,\n",
    "# WITHOUT WARRANTIES OR CONDITIONS OF ANY KIND, either express or implied.\n",
    "# See the License for the specific language governing permissions and\n",
    "# limitations under the License.\n",
    "\n",
    "import pyshark\n",
    "\n",
    "# We need the following to get around “RuntimeError: This event loop is already running” when using Pyshark within Jupyter notebooks.\n",
    "# Not needed in stand-alone Python projects\n",
    "import nest_asyncio\n",
    "nest_asyncio.apply()  \n",
    "\n",
    "\n",
    "# Path to the capture file\n",
    "capture_file = './PCAPs/benign-syn.pcap'\n",
    "cap = pyshark.FileCapture(capture_file)"
   ]
  },
  {
   "cell_type": "markdown",
   "metadata": {},
   "source": [
    "# Extract the 5-tuple identifier"
   ]
  },
  {
   "cell_type": "code",
   "execution_count": null,
   "metadata": {},
   "outputs": [],
   "source": [
    "for packet in cap:\n",
    "    if 'IP' in packet and ('TCP' in packet or 'UDP' in packet):  # Check if the packet has IP and either TCP or UDP layer\n",
    "        src_ip = packet.ip.src  # Source IP address\n",
    "        dst_ip = packet.ip.dst  # Destination IP address\n",
    "        if 'TCP' in packet:\n",
    "            src_port = packet.tcp.srcport  # Source port\n",
    "            dst_port = packet.tcp.dstport  # Destination port\n",
    "            protocol = packet.ip.proto  # Transport layer protocol (TCP or UDP)\n",
    "        elif 'UDP' in packet:\n",
    "            src_port = packet.udp.srcport  # Source port\n",
    "            dst_port = packet.udp.dstport  # Destination port\n",
    "            protocol = packet.ip.proto  # Transport layer protocol (TCP or UDP)\n",
    "        else:\n",
    "            src_port = 0\n",
    "            dst_port = 0\n",
    "            protocol = 0\n",
    "        \n",
    "        print(f\"Source IP: {src_ip}, Source Port: {src_port}, Destination IP: {dst_ip}, Destination Port: {dst_port}, Protocol: {protocol}\")"
   ]
  },
  {
   "cell_type": "markdown",
   "metadata": {},
   "source": [
    "# Extract the IP Flags\n",
    "In the following block, we extract the IP Flags, useful to detect, for instance, fragmentation attacks. The ```hasattr``` method is used to ensure that the IP Flags are present in the packet and avoid errors in the case of Layer 2 frames (e.g., ARP protocol). ```0x02``` means \"don't fragment\", while 0x00 means \"last fragment\". "
   ]
  },
  {
   "cell_type": "code",
   "execution_count": null,
   "metadata": {},
   "outputs": [],
   "source": [
    "# Iterate through each packet and print IP flags for IP packets\n",
    "for packet in cap:\n",
    "    if 'IP' in packet and hasattr(packet.ip, 'flags'):\n",
    "        ip_flags = int(packet.ip.flags, 16)  # Get IP flags as an integer\n",
    "        dont_fragment = bool(ip_flags & 0x2)  # Check Don't Fragment bit\n",
    "        more_fragments = bool(ip_flags & 0x1)  # Check More Fragments bit\n",
    "        reserved = bool(ip_flags & 0x4)  # Check Reserved bit\n",
    "\n",
    "        print(f\"IP Flags: {ip_flags}\")\n",
    "        print(f\"Don't Fragment: {dont_fragment}\")\n",
    "        print(f\"More Fragments: {more_fragments}\")\n",
    "        print(f\"Reserved: {reserved}\")\n",
    "        print(\"-\" * 30)"
   ]
  },
  {
   "cell_type": "markdown",
   "metadata": {},
   "source": [
    "# Extract TCP flags and length\n",
    "Monitoring the TCP flags can be useful to detect SYN flood attacks. "
   ]
  },
  {
   "cell_type": "code",
   "execution_count": null,
   "metadata": {},
   "outputs": [],
   "source": [
    "for packet in cap:\n",
    "    if 'TCP' in packet:  # Check if the packet has a TCP layer\n",
    "        print (\"TCP Length: \", packet.tcp.len)\n",
    "\n",
    "        tcp_flags = int(packet.tcp.flags, 16)  # Get TCP flags as an integer\n",
    "        urg_flag = bool(tcp_flags & 0x20)  # Check URG bit\n",
    "        ack_flag = bool(tcp_flags & 0x10)  # Check ACK bit\n",
    "        psh_flag = bool(tcp_flags & 0x08)  # Check PSH bit\n",
    "        rst_flag = bool(tcp_flags & 0x04)  # Check RST bit\n",
    "        syn_flag = bool(tcp_flags & 0x02)  # Check SYN bit\n",
    "        fin_flag = bool(tcp_flags & 0x01)  # Check FIN bit\n",
    "\n",
    "        print(f\"TCP Flags: {tcp_flags}\")\n",
    "        print(f\"URG: {urg_flag}\")\n",
    "        print(f\"ACK: {ack_flag}\")\n",
    "        print(f\"PSH: {psh_flag}\")\n",
    "        print(f\"RST: {rst_flag}\")\n",
    "        print(f\"SYN: {syn_flag}\")\n",
    "        print(f\"FIN: {fin_flag}\")\n",
    "        print(\"-\" * 30)"
   ]
  },
  {
   "cell_type": "markdown",
   "metadata": {},
   "source": [
    "# Application layer features HTTP and DNS"
   ]
  },
  {
   "cell_type": "code",
   "execution_count": null,
   "metadata": {},
   "outputs": [],
   "source": [
    "# Filtering HTTP packets\n",
    "for packet in cap:\n",
    "    try:\n",
    "        if 'HTTP' in packet:\n",
    "            print('Source IP:', packet.ip.src)\n",
    "            print('Destination IP:', packet.ip.dst)\n",
    "            print('HTTP Method:', packet.http.request_method)\n",
    "            print('HTTP URI:', packet.http.request_uri)\n",
    "            print('HTTP Host:', packet.http.host)\n",
    "            print('----------------------------------')\n",
    "    except AttributeError as e:\n",
    "        print(f'Error processing packet: {e}')"
   ]
  },
  {
   "cell_type": "code",
   "execution_count": null,
   "metadata": {},
   "outputs": [],
   "source": [
    "# Filtering DNS packets\n",
    "for packet in cap:\n",
    "    try:\n",
    "        if 'DNS' in packet:\n",
    "            print('Source IP:', packet.ip.src)\n",
    "            print('Destination IP:', packet.ip.dst)\n",
    "            print('DNS Query Name:', packet.dns.qry_name)\n",
    "            print('----------------------------------')\n",
    "    except AttributeError as e:\n",
    "        print(f'Error processing packet: {e}')"
   ]
  },
  {
   "cell_type": "markdown",
   "metadata": {},
   "source": [
    "# Capturing live traffic from a network interface"
   ]
  },
  {
   "cell_type": "code",
   "execution_count": null,
   "metadata": {},
   "outputs": [],
   "source": [
    "# Callback function to process captured packets\n",
    "def process_packet(pkt):\n",
    "    print(pkt)\n",
    "\n",
    "# Capture packets on network interface 'eth0' and call the callback function for each packet\n",
    "cap = pyshark.LiveCapture(interface='en0')\n",
    "cap.apply_on_packets(process_packet, timeout=10)  # Capture packets for 10 seconds\n",
    "\n",
    "# Alternatively, you can use cap.sniff(timeout=10) if you want to capture packets without applying a callback function"
   ]
  }
 ],
 "metadata": {
  "kernelspec": {
   "display_name": "python39",
   "language": "python",
   "name": "python3"
  },
  "language_info": {
   "codemirror_mode": {
    "name": "ipython",
    "version": 3
   },
   "file_extension": ".py",
   "mimetype": "text/x-python",
   "name": "python",
   "nbconvert_exporter": "python",
   "pygments_lexer": "ipython3",
   "version": "3.9.13"
  }
 },
 "nbformat": 4,
 "nbformat_minor": 2
}
