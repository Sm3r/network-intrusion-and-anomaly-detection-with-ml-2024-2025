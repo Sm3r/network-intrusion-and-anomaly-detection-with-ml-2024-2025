{
 "cells": [
  {
   "cell_type": "markdown",
   "metadata": {},
   "source": [
    "# Feature extraction with Scapy \n",
    "\n",
    "In this demonstration, we will analyse how to extract packet header's features with Scapy, a Python library for packet manipulation."
   ]
  },
  {
   "cell_type": "code",
   "execution_count": null,
   "metadata": {},
   "outputs": [],
   "source": [
    "# Author: Roberto Doriguzzi-Corin\n",
    "# Project: Course on Network Intrusion and Anomaly Detection with Machine Learning\n",
    "#\n",
    "# Licensed under the Apache License, Version 2.0 (the \"License\");\n",
    "# you may not use this file except in compliance with the License.\n",
    "# You may obtain a copy of the License at\n",
    "#\n",
    "#   http://www.apache.org/licenses/LICENSE-2.0\n",
    "#\n",
    "# Unless required by applicable law or agreed to in writing, software\n",
    "# distributed under the License is distributed on an \"AS IS\" BASIS,\n",
    "# WITHOUT WARRANTIES OR CONDITIONS OF ANY KIND, either express or implied.\n",
    "# See the License for the specific language governing permissions and\n",
    "# limitations under the License.\n",
    "\n",
    "from scapy.all import rdpcap\n",
    "\n",
    "# Path to the capture file\n",
    "capture_file = './PCAPs/benign-syn.pcap'\n",
    "# Read packets from the pcap file\n",
    "packets = rdpcap(capture_file)"
   ]
  },
  {
   "cell_type": "markdown",
   "metadata": {},
   "source": [
    "# Extract the 5-tuple identifier"
   ]
  },
  {
   "cell_type": "code",
   "execution_count": null,
   "metadata": {},
   "outputs": [],
   "source": [
    "# Iterate through the captured packets and print the 5-tuple information\n",
    "for packet in packets:\n",
    "    if packet.haslayer('IP'):  # Check if the packet has an IP layer\n",
    "        src_ip = packet['IP'].src  # Source IP address\n",
    "        dst_ip = packet['IP'].dst  # Destination IP address\n",
    "\n",
    "        # Check if the packet has a transport layer (TCP, UDP, etc.)\n",
    "        if packet.haslayer('TCP'):\n",
    "            src_port = packet['TCP'].sport  # Source port\n",
    "            dst_port = packet['TCP'].dport  # Destination port\n",
    "            protocol = 'TCP'\n",
    "        elif packet.haslayer('UDP'):\n",
    "            src_port = packet['UDP'].sport  # Source port\n",
    "            dst_port = packet['UDP'].dport  # Destination port\n",
    "            protocol = 'UDP'\n",
    "        else:\n",
    "            src_port = 0\n",
    "            dst_port = 0\n",
    "            protocol = 0\n",
    "\n",
    "        print(f\"Source IP: {src_ip}, Source Port: {src_port}, Destination IP: {dst_ip}, Destination Port: {dst_port}, Protocol: {protocol}\")"
   ]
  },
  {
   "cell_type": "markdown",
   "metadata": {},
   "source": [
    "# Extract the IP Flags\n",
    "In the following block, we extract the IP Flags, useful to detect, for instance, fragmentation attacks. The ```hasattr``` method is used to ensure that the IP Flags are present in the packet and avoid errors in the case of Layer 2 frames (e.g., ARP protocol). ```0x02``` means \"don't fragment\", while 0x00 means \"last fragment\". "
   ]
  },
  {
   "cell_type": "code",
   "execution_count": null,
   "metadata": {},
   "outputs": [],
   "source": [
    "# Iterate through each packet and print IP flags for IP packets\n",
    "for packet in packets:\n",
    "    if packet.haslayer('IP'):\n",
    "        ip_flags = packet['IP'].flags\n",
    "         # Print IP flags (Don't Fragment, More Fragments, and Reserved bits)\n",
    "        print(f\"IP Flags: {ip_flags}\")\n",
    "        print(f\"Don't Fragment: {bool(ip_flags & 0x2)}\")\n",
    "        print(f\"More Fragments: {bool(ip_flags & 0x1)}\")\n",
    "        print(f\"Reserved: {bool(ip_flags & 0x4)}\")\n",
    "        print(\"-\" * 30)"
   ]
  },
  {
   "cell_type": "markdown",
   "metadata": {},
   "source": [
    "# Extract TCP flags\n",
    "Monitoring the TCP flags can be useful to detect SYN flood attacks. "
   ]
  },
  {
   "cell_type": "code",
   "execution_count": null,
   "metadata": {},
   "outputs": [],
   "source": [
    "# Iterate through the captured packets and print TCP flags\n",
    "for packet in packets:\n",
    "    if packet.haslayer('TCP'):  # Check if the packet has a TCP layer\n",
    "        tcp_flags = packet['TCP'].flags  # Get TCP flags\n",
    "        \n",
    "        # Print TCP flags (URG, ACK, PSH, RST, SYN, FIN bits)\n",
    "        print(f\"TCP Flags: {tcp_flags}\")\n",
    "        print(f\"URG: {bool(tcp_flags & 0x20)}\")\n",
    "        print(f\"ACK: {bool(tcp_flags & 0x10)}\")\n",
    "        print(f\"PSH: {bool(tcp_flags & 0x08)}\")\n",
    "        print(f\"RST: {bool(tcp_flags & 0x04)}\")\n",
    "        print(f\"SYN: {bool(tcp_flags & 0x02)}\")\n",
    "        print(f\"FIN: {bool(tcp_flags & 0x01)}\")\n",
    "        print(\"-\" * 30)"
   ]
  },
  {
   "cell_type": "markdown",
   "metadata": {},
   "source": [
    "# Application layer features HTTP"
   ]
  },
  {
   "cell_type": "code",
   "execution_count": null,
   "metadata": {},
   "outputs": [],
   "source": [
    "# Function to process HTTP packets\n",
    "def process_http(packet):\n",
    "    if packet.haslayer('TCP') and packet['TCP'].dport == 80:\n",
    "        # Check if the packet is destined for HTTP (port 80)\n",
    "        payload = bytes(packet['TCP'].payload)\n",
    "        # Look for HTTP request or response signatures in the payload\n",
    "        if b'GET' in payload or b'POST' in payload or b'HTTP/1.1' in payload:\n",
    "            # Extract and print the HTTP payload\n",
    "            print(payload.decode(errors='ignore'))  # Decode to string (ignore decoding errors)\n",
    "\n",
    "# Iterate through the captured packets and call the function for HTTP packets\n",
    "for packet in packets:\n",
    "    process_http(packet)"
   ]
  },
  {
   "cell_type": "markdown",
   "metadata": {},
   "source": [
    "# Capturing live traffic from a network interface"
   ]
  },
  {
   "cell_type": "code",
   "execution_count": null,
   "metadata": {},
   "outputs": [],
   "source": [
    "from scapy.all import sniff\n",
    "\n",
    "# Callback function to process captured packets\n",
    "def process_packet(packet):\n",
    "    print(packet.summary())  # Print a summary of each captured packet\n",
    "\n",
    "# Sniff packets on network interface 'eth0' and call the callback function for each packet\n",
    "sniff(iface='en0', prn=process_packet, count=10)"
   ]
  }
 ],
 "metadata": {
  "kernelspec": {
   "display_name": "python39",
   "language": "python",
   "name": "python3"
  },
  "language_info": {
   "codemirror_mode": {
    "name": "ipython",
    "version": 3
   },
   "file_extension": ".py",
   "mimetype": "text/x-python",
   "name": "python",
   "nbconvert_exporter": "python",
   "pygments_lexer": "ipython3",
   "version": "3.9.13"
  }
 },
 "nbformat": 4,
 "nbformat_minor": 2
}
